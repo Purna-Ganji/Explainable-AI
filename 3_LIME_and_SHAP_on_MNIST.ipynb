{
  "nbformat": 4,
  "nbformat_minor": 0,
  "metadata": {
    "colab": {
      "provenance": []
    },
    "kernelspec": {
      "name": "python3",
      "display_name": "Python 3"
    },
    "language_info": {
      "name": "python"
    },
    "widgets": {
      "application/vnd.jupyter.widget-state+json": {
        "bd33b507439a4d8189f562e3a24595ae": {
          "model_module": "@jupyter-widgets/controls",
          "model_name": "HBoxModel",
          "model_module_version": "1.5.0",
          "state": {
            "_dom_classes": [],
            "_model_module": "@jupyter-widgets/controls",
            "_model_module_version": "1.5.0",
            "_model_name": "HBoxModel",
            "_view_count": null,
            "_view_module": "@jupyter-widgets/controls",
            "_view_module_version": "1.5.0",
            "_view_name": "HBoxView",
            "box_style": "",
            "children": [
              "IPY_MODEL_05b502e395254bd5a3ff596d5f8f90d4",
              "IPY_MODEL_77665e54d9284c23a21ffcfa38505dfd",
              "IPY_MODEL_ec3f0fbe9731447e9570fc03a922447c"
            ],
            "layout": "IPY_MODEL_59ce305dc6db4f6cbb338e58a9f52f3f"
          }
        },
        "05b502e395254bd5a3ff596d5f8f90d4": {
          "model_module": "@jupyter-widgets/controls",
          "model_name": "HTMLModel",
          "model_module_version": "1.5.0",
          "state": {
            "_dom_classes": [],
            "_model_module": "@jupyter-widgets/controls",
            "_model_module_version": "1.5.0",
            "_model_name": "HTMLModel",
            "_view_count": null,
            "_view_module": "@jupyter-widgets/controls",
            "_view_module_version": "1.5.0",
            "_view_name": "HTMLView",
            "description": "",
            "description_tooltip": null,
            "layout": "IPY_MODEL_3fe79d350a7c42e5b1fe378728c7ede7",
            "placeholder": "​",
            "style": "IPY_MODEL_503ce1e9bd7245358bae11781061aeba",
            "value": "100%"
          }
        },
        "77665e54d9284c23a21ffcfa38505dfd": {
          "model_module": "@jupyter-widgets/controls",
          "model_name": "FloatProgressModel",
          "model_module_version": "1.5.0",
          "state": {
            "_dom_classes": [],
            "_model_module": "@jupyter-widgets/controls",
            "_model_module_version": "1.5.0",
            "_model_name": "FloatProgressModel",
            "_view_count": null,
            "_view_module": "@jupyter-widgets/controls",
            "_view_module_version": "1.5.0",
            "_view_name": "ProgressView",
            "bar_style": "success",
            "description": "",
            "description_tooltip": null,
            "layout": "IPY_MODEL_2a824d4abf594dcca849cbe53f8fa9c5",
            "max": 1000,
            "min": 0,
            "orientation": "horizontal",
            "style": "IPY_MODEL_a74c2f550f5d43b9af311d4a2ef13ea1",
            "value": 1000
          }
        },
        "ec3f0fbe9731447e9570fc03a922447c": {
          "model_module": "@jupyter-widgets/controls",
          "model_name": "HTMLModel",
          "model_module_version": "1.5.0",
          "state": {
            "_dom_classes": [],
            "_model_module": "@jupyter-widgets/controls",
            "_model_module_version": "1.5.0",
            "_model_name": "HTMLModel",
            "_view_count": null,
            "_view_module": "@jupyter-widgets/controls",
            "_view_module_version": "1.5.0",
            "_view_name": "HTMLView",
            "description": "",
            "description_tooltip": null,
            "layout": "IPY_MODEL_a669fdf98d9c45689a2272d27ea7c982",
            "placeholder": "​",
            "style": "IPY_MODEL_b17b098d2844477ebf6e784666d12eb1",
            "value": " 1000/1000 [00:10&lt;00:00, 88.59it/s]"
          }
        },
        "59ce305dc6db4f6cbb338e58a9f52f3f": {
          "model_module": "@jupyter-widgets/base",
          "model_name": "LayoutModel",
          "model_module_version": "1.2.0",
          "state": {
            "_model_module": "@jupyter-widgets/base",
            "_model_module_version": "1.2.0",
            "_model_name": "LayoutModel",
            "_view_count": null,
            "_view_module": "@jupyter-widgets/base",
            "_view_module_version": "1.2.0",
            "_view_name": "LayoutView",
            "align_content": null,
            "align_items": null,
            "align_self": null,
            "border": null,
            "bottom": null,
            "display": null,
            "flex": null,
            "flex_flow": null,
            "grid_area": null,
            "grid_auto_columns": null,
            "grid_auto_flow": null,
            "grid_auto_rows": null,
            "grid_column": null,
            "grid_gap": null,
            "grid_row": null,
            "grid_template_areas": null,
            "grid_template_columns": null,
            "grid_template_rows": null,
            "height": null,
            "justify_content": null,
            "justify_items": null,
            "left": null,
            "margin": null,
            "max_height": null,
            "max_width": null,
            "min_height": null,
            "min_width": null,
            "object_fit": null,
            "object_position": null,
            "order": null,
            "overflow": null,
            "overflow_x": null,
            "overflow_y": null,
            "padding": null,
            "right": null,
            "top": null,
            "visibility": null,
            "width": null
          }
        },
        "3fe79d350a7c42e5b1fe378728c7ede7": {
          "model_module": "@jupyter-widgets/base",
          "model_name": "LayoutModel",
          "model_module_version": "1.2.0",
          "state": {
            "_model_module": "@jupyter-widgets/base",
            "_model_module_version": "1.2.0",
            "_model_name": "LayoutModel",
            "_view_count": null,
            "_view_module": "@jupyter-widgets/base",
            "_view_module_version": "1.2.0",
            "_view_name": "LayoutView",
            "align_content": null,
            "align_items": null,
            "align_self": null,
            "border": null,
            "bottom": null,
            "display": null,
            "flex": null,
            "flex_flow": null,
            "grid_area": null,
            "grid_auto_columns": null,
            "grid_auto_flow": null,
            "grid_auto_rows": null,
            "grid_column": null,
            "grid_gap": null,
            "grid_row": null,
            "grid_template_areas": null,
            "grid_template_columns": null,
            "grid_template_rows": null,
            "height": null,
            "justify_content": null,
            "justify_items": null,
            "left": null,
            "margin": null,
            "max_height": null,
            "max_width": null,
            "min_height": null,
            "min_width": null,
            "object_fit": null,
            "object_position": null,
            "order": null,
            "overflow": null,
            "overflow_x": null,
            "overflow_y": null,
            "padding": null,
            "right": null,
            "top": null,
            "visibility": null,
            "width": null
          }
        },
        "503ce1e9bd7245358bae11781061aeba": {
          "model_module": "@jupyter-widgets/controls",
          "model_name": "DescriptionStyleModel",
          "model_module_version": "1.5.0",
          "state": {
            "_model_module": "@jupyter-widgets/controls",
            "_model_module_version": "1.5.0",
            "_model_name": "DescriptionStyleModel",
            "_view_count": null,
            "_view_module": "@jupyter-widgets/base",
            "_view_module_version": "1.2.0",
            "_view_name": "StyleView",
            "description_width": ""
          }
        },
        "2a824d4abf594dcca849cbe53f8fa9c5": {
          "model_module": "@jupyter-widgets/base",
          "model_name": "LayoutModel",
          "model_module_version": "1.2.0",
          "state": {
            "_model_module": "@jupyter-widgets/base",
            "_model_module_version": "1.2.0",
            "_model_name": "LayoutModel",
            "_view_count": null,
            "_view_module": "@jupyter-widgets/base",
            "_view_module_version": "1.2.0",
            "_view_name": "LayoutView",
            "align_content": null,
            "align_items": null,
            "align_self": null,
            "border": null,
            "bottom": null,
            "display": null,
            "flex": null,
            "flex_flow": null,
            "grid_area": null,
            "grid_auto_columns": null,
            "grid_auto_flow": null,
            "grid_auto_rows": null,
            "grid_column": null,
            "grid_gap": null,
            "grid_row": null,
            "grid_template_areas": null,
            "grid_template_columns": null,
            "grid_template_rows": null,
            "height": null,
            "justify_content": null,
            "justify_items": null,
            "left": null,
            "margin": null,
            "max_height": null,
            "max_width": null,
            "min_height": null,
            "min_width": null,
            "object_fit": null,
            "object_position": null,
            "order": null,
            "overflow": null,
            "overflow_x": null,
            "overflow_y": null,
            "padding": null,
            "right": null,
            "top": null,
            "visibility": null,
            "width": null
          }
        },
        "a74c2f550f5d43b9af311d4a2ef13ea1": {
          "model_module": "@jupyter-widgets/controls",
          "model_name": "ProgressStyleModel",
          "model_module_version": "1.5.0",
          "state": {
            "_model_module": "@jupyter-widgets/controls",
            "_model_module_version": "1.5.0",
            "_model_name": "ProgressStyleModel",
            "_view_count": null,
            "_view_module": "@jupyter-widgets/base",
            "_view_module_version": "1.2.0",
            "_view_name": "StyleView",
            "bar_color": null,
            "description_width": ""
          }
        },
        "a669fdf98d9c45689a2272d27ea7c982": {
          "model_module": "@jupyter-widgets/base",
          "model_name": "LayoutModel",
          "model_module_version": "1.2.0",
          "state": {
            "_model_module": "@jupyter-widgets/base",
            "_model_module_version": "1.2.0",
            "_model_name": "LayoutModel",
            "_view_count": null,
            "_view_module": "@jupyter-widgets/base",
            "_view_module_version": "1.2.0",
            "_view_name": "LayoutView",
            "align_content": null,
            "align_items": null,
            "align_self": null,
            "border": null,
            "bottom": null,
            "display": null,
            "flex": null,
            "flex_flow": null,
            "grid_area": null,
            "grid_auto_columns": null,
            "grid_auto_flow": null,
            "grid_auto_rows": null,
            "grid_column": null,
            "grid_gap": null,
            "grid_row": null,
            "grid_template_areas": null,
            "grid_template_columns": null,
            "grid_template_rows": null,
            "height": null,
            "justify_content": null,
            "justify_items": null,
            "left": null,
            "margin": null,
            "max_height": null,
            "max_width": null,
            "min_height": null,
            "min_width": null,
            "object_fit": null,
            "object_position": null,
            "order": null,
            "overflow": null,
            "overflow_x": null,
            "overflow_y": null,
            "padding": null,
            "right": null,
            "top": null,
            "visibility": null,
            "width": null
          }
        },
        "b17b098d2844477ebf6e784666d12eb1": {
          "model_module": "@jupyter-widgets/controls",
          "model_name": "DescriptionStyleModel",
          "model_module_version": "1.5.0",
          "state": {
            "_model_module": "@jupyter-widgets/controls",
            "_model_module_version": "1.5.0",
            "_model_name": "DescriptionStyleModel",
            "_view_count": null,
            "_view_module": "@jupyter-widgets/base",
            "_view_module_version": "1.2.0",
            "_view_name": "StyleView",
            "description_width": ""
          }
        },
        "f8e7ba97eb394c7baac8632b2987c776": {
          "model_module": "@jupyter-widgets/controls",
          "model_name": "HBoxModel",
          "model_module_version": "1.5.0",
          "state": {
            "_dom_classes": [],
            "_model_module": "@jupyter-widgets/controls",
            "_model_module_version": "1.5.0",
            "_model_name": "HBoxModel",
            "_view_count": null,
            "_view_module": "@jupyter-widgets/controls",
            "_view_module_version": "1.5.0",
            "_view_name": "HBoxView",
            "box_style": "",
            "children": [
              "IPY_MODEL_05ba2fc7178b495db9f87d59450cea47",
              "IPY_MODEL_7ed9daff9993438cbb8d2479d906b785",
              "IPY_MODEL_c46619aee6484cc8b5b5b9ef0ce73553"
            ],
            "layout": "IPY_MODEL_48d7b404660b47c98f542b82307a1c15"
          }
        },
        "05ba2fc7178b495db9f87d59450cea47": {
          "model_module": "@jupyter-widgets/controls",
          "model_name": "HTMLModel",
          "model_module_version": "1.5.0",
          "state": {
            "_dom_classes": [],
            "_model_module": "@jupyter-widgets/controls",
            "_model_module_version": "1.5.0",
            "_model_name": "HTMLModel",
            "_view_count": null,
            "_view_module": "@jupyter-widgets/controls",
            "_view_module_version": "1.5.0",
            "_view_name": "HTMLView",
            "description": "",
            "description_tooltip": null,
            "layout": "IPY_MODEL_f4df553a352c476c8406c56ce0948504",
            "placeholder": "​",
            "style": "IPY_MODEL_ba3ee97b2a1f43dc9fa45dfc7eae4fa3",
            "value": "100%"
          }
        },
        "7ed9daff9993438cbb8d2479d906b785": {
          "model_module": "@jupyter-widgets/controls",
          "model_name": "FloatProgressModel",
          "model_module_version": "1.5.0",
          "state": {
            "_dom_classes": [],
            "_model_module": "@jupyter-widgets/controls",
            "_model_module_version": "1.5.0",
            "_model_name": "FloatProgressModel",
            "_view_count": null,
            "_view_module": "@jupyter-widgets/controls",
            "_view_module_version": "1.5.0",
            "_view_name": "ProgressView",
            "bar_style": "success",
            "description": "",
            "description_tooltip": null,
            "layout": "IPY_MODEL_c04e256c67274df29ff46a07dadf29cc",
            "max": 1000,
            "min": 0,
            "orientation": "horizontal",
            "style": "IPY_MODEL_63be37e08d8a458eaae85157bee87f01",
            "value": 1000
          }
        },
        "c46619aee6484cc8b5b5b9ef0ce73553": {
          "model_module": "@jupyter-widgets/controls",
          "model_name": "HTMLModel",
          "model_module_version": "1.5.0",
          "state": {
            "_dom_classes": [],
            "_model_module": "@jupyter-widgets/controls",
            "_model_module_version": "1.5.0",
            "_model_name": "HTMLModel",
            "_view_count": null,
            "_view_module": "@jupyter-widgets/controls",
            "_view_module_version": "1.5.0",
            "_view_name": "HTMLView",
            "description": "",
            "description_tooltip": null,
            "layout": "IPY_MODEL_30637e704d2e4874ba65dad23016b4dd",
            "placeholder": "​",
            "style": "IPY_MODEL_702961558c5e4c8084b83fc818597f34",
            "value": " 1000/1000 [00:10&lt;00:00, 99.96it/s]"
          }
        },
        "48d7b404660b47c98f542b82307a1c15": {
          "model_module": "@jupyter-widgets/base",
          "model_name": "LayoutModel",
          "model_module_version": "1.2.0",
          "state": {
            "_model_module": "@jupyter-widgets/base",
            "_model_module_version": "1.2.0",
            "_model_name": "LayoutModel",
            "_view_count": null,
            "_view_module": "@jupyter-widgets/base",
            "_view_module_version": "1.2.0",
            "_view_name": "LayoutView",
            "align_content": null,
            "align_items": null,
            "align_self": null,
            "border": null,
            "bottom": null,
            "display": null,
            "flex": null,
            "flex_flow": null,
            "grid_area": null,
            "grid_auto_columns": null,
            "grid_auto_flow": null,
            "grid_auto_rows": null,
            "grid_column": null,
            "grid_gap": null,
            "grid_row": null,
            "grid_template_areas": null,
            "grid_template_columns": null,
            "grid_template_rows": null,
            "height": null,
            "justify_content": null,
            "justify_items": null,
            "left": null,
            "margin": null,
            "max_height": null,
            "max_width": null,
            "min_height": null,
            "min_width": null,
            "object_fit": null,
            "object_position": null,
            "order": null,
            "overflow": null,
            "overflow_x": null,
            "overflow_y": null,
            "padding": null,
            "right": null,
            "top": null,
            "visibility": null,
            "width": null
          }
        },
        "f4df553a352c476c8406c56ce0948504": {
          "model_module": "@jupyter-widgets/base",
          "model_name": "LayoutModel",
          "model_module_version": "1.2.0",
          "state": {
            "_model_module": "@jupyter-widgets/base",
            "_model_module_version": "1.2.0",
            "_model_name": "LayoutModel",
            "_view_count": null,
            "_view_module": "@jupyter-widgets/base",
            "_view_module_version": "1.2.0",
            "_view_name": "LayoutView",
            "align_content": null,
            "align_items": null,
            "align_self": null,
            "border": null,
            "bottom": null,
            "display": null,
            "flex": null,
            "flex_flow": null,
            "grid_area": null,
            "grid_auto_columns": null,
            "grid_auto_flow": null,
            "grid_auto_rows": null,
            "grid_column": null,
            "grid_gap": null,
            "grid_row": null,
            "grid_template_areas": null,
            "grid_template_columns": null,
            "grid_template_rows": null,
            "height": null,
            "justify_content": null,
            "justify_items": null,
            "left": null,
            "margin": null,
            "max_height": null,
            "max_width": null,
            "min_height": null,
            "min_width": null,
            "object_fit": null,
            "object_position": null,
            "order": null,
            "overflow": null,
            "overflow_x": null,
            "overflow_y": null,
            "padding": null,
            "right": null,
            "top": null,
            "visibility": null,
            "width": null
          }
        },
        "ba3ee97b2a1f43dc9fa45dfc7eae4fa3": {
          "model_module": "@jupyter-widgets/controls",
          "model_name": "DescriptionStyleModel",
          "model_module_version": "1.5.0",
          "state": {
            "_model_module": "@jupyter-widgets/controls",
            "_model_module_version": "1.5.0",
            "_model_name": "DescriptionStyleModel",
            "_view_count": null,
            "_view_module": "@jupyter-widgets/base",
            "_view_module_version": "1.2.0",
            "_view_name": "StyleView",
            "description_width": ""
          }
        },
        "c04e256c67274df29ff46a07dadf29cc": {
          "model_module": "@jupyter-widgets/base",
          "model_name": "LayoutModel",
          "model_module_version": "1.2.0",
          "state": {
            "_model_module": "@jupyter-widgets/base",
            "_model_module_version": "1.2.0",
            "_model_name": "LayoutModel",
            "_view_count": null,
            "_view_module": "@jupyter-widgets/base",
            "_view_module_version": "1.2.0",
            "_view_name": "LayoutView",
            "align_content": null,
            "align_items": null,
            "align_self": null,
            "border": null,
            "bottom": null,
            "display": null,
            "flex": null,
            "flex_flow": null,
            "grid_area": null,
            "grid_auto_columns": null,
            "grid_auto_flow": null,
            "grid_auto_rows": null,
            "grid_column": null,
            "grid_gap": null,
            "grid_row": null,
            "grid_template_areas": null,
            "grid_template_columns": null,
            "grid_template_rows": null,
            "height": null,
            "justify_content": null,
            "justify_items": null,
            "left": null,
            "margin": null,
            "max_height": null,
            "max_width": null,
            "min_height": null,
            "min_width": null,
            "object_fit": null,
            "object_position": null,
            "order": null,
            "overflow": null,
            "overflow_x": null,
            "overflow_y": null,
            "padding": null,
            "right": null,
            "top": null,
            "visibility": null,
            "width": null
          }
        },
        "63be37e08d8a458eaae85157bee87f01": {
          "model_module": "@jupyter-widgets/controls",
          "model_name": "ProgressStyleModel",
          "model_module_version": "1.5.0",
          "state": {
            "_model_module": "@jupyter-widgets/controls",
            "_model_module_version": "1.5.0",
            "_model_name": "ProgressStyleModel",
            "_view_count": null,
            "_view_module": "@jupyter-widgets/base",
            "_view_module_version": "1.2.0",
            "_view_name": "StyleView",
            "bar_color": null,
            "description_width": ""
          }
        },
        "30637e704d2e4874ba65dad23016b4dd": {
          "model_module": "@jupyter-widgets/base",
          "model_name": "LayoutModel",
          "model_module_version": "1.2.0",
          "state": {
            "_model_module": "@jupyter-widgets/base",
            "_model_module_version": "1.2.0",
            "_model_name": "LayoutModel",
            "_view_count": null,
            "_view_module": "@jupyter-widgets/base",
            "_view_module_version": "1.2.0",
            "_view_name": "LayoutView",
            "align_content": null,
            "align_items": null,
            "align_self": null,
            "border": null,
            "bottom": null,
            "display": null,
            "flex": null,
            "flex_flow": null,
            "grid_area": null,
            "grid_auto_columns": null,
            "grid_auto_flow": null,
            "grid_auto_rows": null,
            "grid_column": null,
            "grid_gap": null,
            "grid_row": null,
            "grid_template_areas": null,
            "grid_template_columns": null,
            "grid_template_rows": null,
            "height": null,
            "justify_content": null,
            "justify_items": null,
            "left": null,
            "margin": null,
            "max_height": null,
            "max_width": null,
            "min_height": null,
            "min_width": null,
            "object_fit": null,
            "object_position": null,
            "order": null,
            "overflow": null,
            "overflow_x": null,
            "overflow_y": null,
            "padding": null,
            "right": null,
            "top": null,
            "visibility": null,
            "width": null
          }
        },
        "702961558c5e4c8084b83fc818597f34": {
          "model_module": "@jupyter-widgets/controls",
          "model_name": "DescriptionStyleModel",
          "model_module_version": "1.5.0",
          "state": {
            "_model_module": "@jupyter-widgets/controls",
            "_model_module_version": "1.5.0",
            "_model_name": "DescriptionStyleModel",
            "_view_count": null,
            "_view_module": "@jupyter-widgets/base",
            "_view_module_version": "1.2.0",
            "_view_name": "StyleView",
            "description_width": ""
          }
        },
        "5dfd5fcb7a81449d9fea469523a34f94": {
          "model_module": "@jupyter-widgets/controls",
          "model_name": "HBoxModel",
          "model_module_version": "1.5.0",
          "state": {
            "_dom_classes": [],
            "_model_module": "@jupyter-widgets/controls",
            "_model_module_version": "1.5.0",
            "_model_name": "HBoxModel",
            "_view_count": null,
            "_view_module": "@jupyter-widgets/controls",
            "_view_module_version": "1.5.0",
            "_view_name": "HBoxView",
            "box_style": "",
            "children": [
              "IPY_MODEL_01694210f6e84eda951a8c9fbd76dc1b",
              "IPY_MODEL_8b3a191558bb446d9767f3cee01874d9",
              "IPY_MODEL_123414fc6001439bacac208a83706668"
            ],
            "layout": "IPY_MODEL_6f86e2516dec41ab96445799fb50fc7a"
          }
        },
        "01694210f6e84eda951a8c9fbd76dc1b": {
          "model_module": "@jupyter-widgets/controls",
          "model_name": "HTMLModel",
          "model_module_version": "1.5.0",
          "state": {
            "_dom_classes": [],
            "_model_module": "@jupyter-widgets/controls",
            "_model_module_version": "1.5.0",
            "_model_name": "HTMLModel",
            "_view_count": null,
            "_view_module": "@jupyter-widgets/controls",
            "_view_module_version": "1.5.0",
            "_view_name": "HTMLView",
            "description": "",
            "description_tooltip": null,
            "layout": "IPY_MODEL_26f3d4bf605c40669f4776543ab1ed1a",
            "placeholder": "​",
            "style": "IPY_MODEL_901fbb7ae0b14dc2b1d674ff9bf21a7c",
            "value": "100%"
          }
        },
        "8b3a191558bb446d9767f3cee01874d9": {
          "model_module": "@jupyter-widgets/controls",
          "model_name": "FloatProgressModel",
          "model_module_version": "1.5.0",
          "state": {
            "_dom_classes": [],
            "_model_module": "@jupyter-widgets/controls",
            "_model_module_version": "1.5.0",
            "_model_name": "FloatProgressModel",
            "_view_count": null,
            "_view_module": "@jupyter-widgets/controls",
            "_view_module_version": "1.5.0",
            "_view_name": "ProgressView",
            "bar_style": "success",
            "description": "",
            "description_tooltip": null,
            "layout": "IPY_MODEL_fe05f37b708448ae98d42f6836a40eec",
            "max": 1000,
            "min": 0,
            "orientation": "horizontal",
            "style": "IPY_MODEL_8ce8dc27bcbb4ca28f679207c3d3e627",
            "value": 1000
          }
        },
        "123414fc6001439bacac208a83706668": {
          "model_module": "@jupyter-widgets/controls",
          "model_name": "HTMLModel",
          "model_module_version": "1.5.0",
          "state": {
            "_dom_classes": [],
            "_model_module": "@jupyter-widgets/controls",
            "_model_module_version": "1.5.0",
            "_model_name": "HTMLModel",
            "_view_count": null,
            "_view_module": "@jupyter-widgets/controls",
            "_view_module_version": "1.5.0",
            "_view_name": "HTMLView",
            "description": "",
            "description_tooltip": null,
            "layout": "IPY_MODEL_207bdad5f88b4d1baf843e430ff8322b",
            "placeholder": "​",
            "style": "IPY_MODEL_93decf470012434088a85b3573e702c2",
            "value": " 1000/1000 [00:10&lt;00:00, 114.35it/s]"
          }
        },
        "6f86e2516dec41ab96445799fb50fc7a": {
          "model_module": "@jupyter-widgets/base",
          "model_name": "LayoutModel",
          "model_module_version": "1.2.0",
          "state": {
            "_model_module": "@jupyter-widgets/base",
            "_model_module_version": "1.2.0",
            "_model_name": "LayoutModel",
            "_view_count": null,
            "_view_module": "@jupyter-widgets/base",
            "_view_module_version": "1.2.0",
            "_view_name": "LayoutView",
            "align_content": null,
            "align_items": null,
            "align_self": null,
            "border": null,
            "bottom": null,
            "display": null,
            "flex": null,
            "flex_flow": null,
            "grid_area": null,
            "grid_auto_columns": null,
            "grid_auto_flow": null,
            "grid_auto_rows": null,
            "grid_column": null,
            "grid_gap": null,
            "grid_row": null,
            "grid_template_areas": null,
            "grid_template_columns": null,
            "grid_template_rows": null,
            "height": null,
            "justify_content": null,
            "justify_items": null,
            "left": null,
            "margin": null,
            "max_height": null,
            "max_width": null,
            "min_height": null,
            "min_width": null,
            "object_fit": null,
            "object_position": null,
            "order": null,
            "overflow": null,
            "overflow_x": null,
            "overflow_y": null,
            "padding": null,
            "right": null,
            "top": null,
            "visibility": null,
            "width": null
          }
        },
        "26f3d4bf605c40669f4776543ab1ed1a": {
          "model_module": "@jupyter-widgets/base",
          "model_name": "LayoutModel",
          "model_module_version": "1.2.0",
          "state": {
            "_model_module": "@jupyter-widgets/base",
            "_model_module_version": "1.2.0",
            "_model_name": "LayoutModel",
            "_view_count": null,
            "_view_module": "@jupyter-widgets/base",
            "_view_module_version": "1.2.0",
            "_view_name": "LayoutView",
            "align_content": null,
            "align_items": null,
            "align_self": null,
            "border": null,
            "bottom": null,
            "display": null,
            "flex": null,
            "flex_flow": null,
            "grid_area": null,
            "grid_auto_columns": null,
            "grid_auto_flow": null,
            "grid_auto_rows": null,
            "grid_column": null,
            "grid_gap": null,
            "grid_row": null,
            "grid_template_areas": null,
            "grid_template_columns": null,
            "grid_template_rows": null,
            "height": null,
            "justify_content": null,
            "justify_items": null,
            "left": null,
            "margin": null,
            "max_height": null,
            "max_width": null,
            "min_height": null,
            "min_width": null,
            "object_fit": null,
            "object_position": null,
            "order": null,
            "overflow": null,
            "overflow_x": null,
            "overflow_y": null,
            "padding": null,
            "right": null,
            "top": null,
            "visibility": null,
            "width": null
          }
        },
        "901fbb7ae0b14dc2b1d674ff9bf21a7c": {
          "model_module": "@jupyter-widgets/controls",
          "model_name": "DescriptionStyleModel",
          "model_module_version": "1.5.0",
          "state": {
            "_model_module": "@jupyter-widgets/controls",
            "_model_module_version": "1.5.0",
            "_model_name": "DescriptionStyleModel",
            "_view_count": null,
            "_view_module": "@jupyter-widgets/base",
            "_view_module_version": "1.2.0",
            "_view_name": "StyleView",
            "description_width": ""
          }
        },
        "fe05f37b708448ae98d42f6836a40eec": {
          "model_module": "@jupyter-widgets/base",
          "model_name": "LayoutModel",
          "model_module_version": "1.2.0",
          "state": {
            "_model_module": "@jupyter-widgets/base",
            "_model_module_version": "1.2.0",
            "_model_name": "LayoutModel",
            "_view_count": null,
            "_view_module": "@jupyter-widgets/base",
            "_view_module_version": "1.2.0",
            "_view_name": "LayoutView",
            "align_content": null,
            "align_items": null,
            "align_self": null,
            "border": null,
            "bottom": null,
            "display": null,
            "flex": null,
            "flex_flow": null,
            "grid_area": null,
            "grid_auto_columns": null,
            "grid_auto_flow": null,
            "grid_auto_rows": null,
            "grid_column": null,
            "grid_gap": null,
            "grid_row": null,
            "grid_template_areas": null,
            "grid_template_columns": null,
            "grid_template_rows": null,
            "height": null,
            "justify_content": null,
            "justify_items": null,
            "left": null,
            "margin": null,
            "max_height": null,
            "max_width": null,
            "min_height": null,
            "min_width": null,
            "object_fit": null,
            "object_position": null,
            "order": null,
            "overflow": null,
            "overflow_x": null,
            "overflow_y": null,
            "padding": null,
            "right": null,
            "top": null,
            "visibility": null,
            "width": null
          }
        },
        "8ce8dc27bcbb4ca28f679207c3d3e627": {
          "model_module": "@jupyter-widgets/controls",
          "model_name": "ProgressStyleModel",
          "model_module_version": "1.5.0",
          "state": {
            "_model_module": "@jupyter-widgets/controls",
            "_model_module_version": "1.5.0",
            "_model_name": "ProgressStyleModel",
            "_view_count": null,
            "_view_module": "@jupyter-widgets/base",
            "_view_module_version": "1.2.0",
            "_view_name": "StyleView",
            "bar_color": null,
            "description_width": ""
          }
        },
        "207bdad5f88b4d1baf843e430ff8322b": {
          "model_module": "@jupyter-widgets/base",
          "model_name": "LayoutModel",
          "model_module_version": "1.2.0",
          "state": {
            "_model_module": "@jupyter-widgets/base",
            "_model_module_version": "1.2.0",
            "_model_name": "LayoutModel",
            "_view_count": null,
            "_view_module": "@jupyter-widgets/base",
            "_view_module_version": "1.2.0",
            "_view_name": "LayoutView",
            "align_content": null,
            "align_items": null,
            "align_self": null,
            "border": null,
            "bottom": null,
            "display": null,
            "flex": null,
            "flex_flow": null,
            "grid_area": null,
            "grid_auto_columns": null,
            "grid_auto_flow": null,
            "grid_auto_rows": null,
            "grid_column": null,
            "grid_gap": null,
            "grid_row": null,
            "grid_template_areas": null,
            "grid_template_columns": null,
            "grid_template_rows": null,
            "height": null,
            "justify_content": null,
            "justify_items": null,
            "left": null,
            "margin": null,
            "max_height": null,
            "max_width": null,
            "min_height": null,
            "min_width": null,
            "object_fit": null,
            "object_position": null,
            "order": null,
            "overflow": null,
            "overflow_x": null,
            "overflow_y": null,
            "padding": null,
            "right": null,
            "top": null,
            "visibility": null,
            "width": null
          }
        },
        "93decf470012434088a85b3573e702c2": {
          "model_module": "@jupyter-widgets/controls",
          "model_name": "DescriptionStyleModel",
          "model_module_version": "1.5.0",
          "state": {
            "_model_module": "@jupyter-widgets/controls",
            "_model_module_version": "1.5.0",
            "_model_name": "DescriptionStyleModel",
            "_view_count": null,
            "_view_module": "@jupyter-widgets/base",
            "_view_module_version": "1.2.0",
            "_view_name": "StyleView",
            "description_width": ""
          }
        },
        "a11ac6278616449ca4e9198d9ff02622": {
          "model_module": "@jupyter-widgets/controls",
          "model_name": "HBoxModel",
          "model_module_version": "1.5.0",
          "state": {
            "_dom_classes": [],
            "_model_module": "@jupyter-widgets/controls",
            "_model_module_version": "1.5.0",
            "_model_name": "HBoxModel",
            "_view_count": null,
            "_view_module": "@jupyter-widgets/controls",
            "_view_module_version": "1.5.0",
            "_view_name": "HBoxView",
            "box_style": "",
            "children": [
              "IPY_MODEL_3a0b674c287944818d075b5b49815980",
              "IPY_MODEL_8d39c472c54b47ce8293a812ca2024c8",
              "IPY_MODEL_2d848a2f4fb54fa096272cb962048deb"
            ],
            "layout": "IPY_MODEL_a45050b871c54c51b22358b2e802092a"
          }
        },
        "3a0b674c287944818d075b5b49815980": {
          "model_module": "@jupyter-widgets/controls",
          "model_name": "HTMLModel",
          "model_module_version": "1.5.0",
          "state": {
            "_dom_classes": [],
            "_model_module": "@jupyter-widgets/controls",
            "_model_module_version": "1.5.0",
            "_model_name": "HTMLModel",
            "_view_count": null,
            "_view_module": "@jupyter-widgets/controls",
            "_view_module_version": "1.5.0",
            "_view_name": "HTMLView",
            "description": "",
            "description_tooltip": null,
            "layout": "IPY_MODEL_c80159aa81e54f329bdd55463659d4e6",
            "placeholder": "​",
            "style": "IPY_MODEL_331bba5987cc4c598bdc2ba2185abc7e",
            "value": "100%"
          }
        },
        "8d39c472c54b47ce8293a812ca2024c8": {
          "model_module": "@jupyter-widgets/controls",
          "model_name": "FloatProgressModel",
          "model_module_version": "1.5.0",
          "state": {
            "_dom_classes": [],
            "_model_module": "@jupyter-widgets/controls",
            "_model_module_version": "1.5.0",
            "_model_name": "FloatProgressModel",
            "_view_count": null,
            "_view_module": "@jupyter-widgets/controls",
            "_view_module_version": "1.5.0",
            "_view_name": "ProgressView",
            "bar_style": "success",
            "description": "",
            "description_tooltip": null,
            "layout": "IPY_MODEL_25da547228524b24b1ed74b9295500b4",
            "max": 1000,
            "min": 0,
            "orientation": "horizontal",
            "style": "IPY_MODEL_477a67379e49413baf36140a1bdf880d",
            "value": 1000
          }
        },
        "2d848a2f4fb54fa096272cb962048deb": {
          "model_module": "@jupyter-widgets/controls",
          "model_name": "HTMLModel",
          "model_module_version": "1.5.0",
          "state": {
            "_dom_classes": [],
            "_model_module": "@jupyter-widgets/controls",
            "_model_module_version": "1.5.0",
            "_model_name": "HTMLModel",
            "_view_count": null,
            "_view_module": "@jupyter-widgets/controls",
            "_view_module_version": "1.5.0",
            "_view_name": "HTMLView",
            "description": "",
            "description_tooltip": null,
            "layout": "IPY_MODEL_467aa96d7f384972b46d5295545a9d85",
            "placeholder": "​",
            "style": "IPY_MODEL_9ba1a08daa3148b795b0296ffa6a4333",
            "value": " 1000/1000 [00:10&lt;00:00, 109.11it/s]"
          }
        },
        "a45050b871c54c51b22358b2e802092a": {
          "model_module": "@jupyter-widgets/base",
          "model_name": "LayoutModel",
          "model_module_version": "1.2.0",
          "state": {
            "_model_module": "@jupyter-widgets/base",
            "_model_module_version": "1.2.0",
            "_model_name": "LayoutModel",
            "_view_count": null,
            "_view_module": "@jupyter-widgets/base",
            "_view_module_version": "1.2.0",
            "_view_name": "LayoutView",
            "align_content": null,
            "align_items": null,
            "align_self": null,
            "border": null,
            "bottom": null,
            "display": null,
            "flex": null,
            "flex_flow": null,
            "grid_area": null,
            "grid_auto_columns": null,
            "grid_auto_flow": null,
            "grid_auto_rows": null,
            "grid_column": null,
            "grid_gap": null,
            "grid_row": null,
            "grid_template_areas": null,
            "grid_template_columns": null,
            "grid_template_rows": null,
            "height": null,
            "justify_content": null,
            "justify_items": null,
            "left": null,
            "margin": null,
            "max_height": null,
            "max_width": null,
            "min_height": null,
            "min_width": null,
            "object_fit": null,
            "object_position": null,
            "order": null,
            "overflow": null,
            "overflow_x": null,
            "overflow_y": null,
            "padding": null,
            "right": null,
            "top": null,
            "visibility": null,
            "width": null
          }
        },
        "c80159aa81e54f329bdd55463659d4e6": {
          "model_module": "@jupyter-widgets/base",
          "model_name": "LayoutModel",
          "model_module_version": "1.2.0",
          "state": {
            "_model_module": "@jupyter-widgets/base",
            "_model_module_version": "1.2.0",
            "_model_name": "LayoutModel",
            "_view_count": null,
            "_view_module": "@jupyter-widgets/base",
            "_view_module_version": "1.2.0",
            "_view_name": "LayoutView",
            "align_content": null,
            "align_items": null,
            "align_self": null,
            "border": null,
            "bottom": null,
            "display": null,
            "flex": null,
            "flex_flow": null,
            "grid_area": null,
            "grid_auto_columns": null,
            "grid_auto_flow": null,
            "grid_auto_rows": null,
            "grid_column": null,
            "grid_gap": null,
            "grid_row": null,
            "grid_template_areas": null,
            "grid_template_columns": null,
            "grid_template_rows": null,
            "height": null,
            "justify_content": null,
            "justify_items": null,
            "left": null,
            "margin": null,
            "max_height": null,
            "max_width": null,
            "min_height": null,
            "min_width": null,
            "object_fit": null,
            "object_position": null,
            "order": null,
            "overflow": null,
            "overflow_x": null,
            "overflow_y": null,
            "padding": null,
            "right": null,
            "top": null,
            "visibility": null,
            "width": null
          }
        },
        "331bba5987cc4c598bdc2ba2185abc7e": {
          "model_module": "@jupyter-widgets/controls",
          "model_name": "DescriptionStyleModel",
          "model_module_version": "1.5.0",
          "state": {
            "_model_module": "@jupyter-widgets/controls",
            "_model_module_version": "1.5.0",
            "_model_name": "DescriptionStyleModel",
            "_view_count": null,
            "_view_module": "@jupyter-widgets/base",
            "_view_module_version": "1.2.0",
            "_view_name": "StyleView",
            "description_width": ""
          }
        },
        "25da547228524b24b1ed74b9295500b4": {
          "model_module": "@jupyter-widgets/base",
          "model_name": "LayoutModel",
          "model_module_version": "1.2.0",
          "state": {
            "_model_module": "@jupyter-widgets/base",
            "_model_module_version": "1.2.0",
            "_model_name": "LayoutModel",
            "_view_count": null,
            "_view_module": "@jupyter-widgets/base",
            "_view_module_version": "1.2.0",
            "_view_name": "LayoutView",
            "align_content": null,
            "align_items": null,
            "align_self": null,
            "border": null,
            "bottom": null,
            "display": null,
            "flex": null,
            "flex_flow": null,
            "grid_area": null,
            "grid_auto_columns": null,
            "grid_auto_flow": null,
            "grid_auto_rows": null,
            "grid_column": null,
            "grid_gap": null,
            "grid_row": null,
            "grid_template_areas": null,
            "grid_template_columns": null,
            "grid_template_rows": null,
            "height": null,
            "justify_content": null,
            "justify_items": null,
            "left": null,
            "margin": null,
            "max_height": null,
            "max_width": null,
            "min_height": null,
            "min_width": null,
            "object_fit": null,
            "object_position": null,
            "order": null,
            "overflow": null,
            "overflow_x": null,
            "overflow_y": null,
            "padding": null,
            "right": null,
            "top": null,
            "visibility": null,
            "width": null
          }
        },
        "477a67379e49413baf36140a1bdf880d": {
          "model_module": "@jupyter-widgets/controls",
          "model_name": "ProgressStyleModel",
          "model_module_version": "1.5.0",
          "state": {
            "_model_module": "@jupyter-widgets/controls",
            "_model_module_version": "1.5.0",
            "_model_name": "ProgressStyleModel",
            "_view_count": null,
            "_view_module": "@jupyter-widgets/base",
            "_view_module_version": "1.2.0",
            "_view_name": "StyleView",
            "bar_color": null,
            "description_width": ""
          }
        },
        "467aa96d7f384972b46d5295545a9d85": {
          "model_module": "@jupyter-widgets/base",
          "model_name": "LayoutModel",
          "model_module_version": "1.2.0",
          "state": {
            "_model_module": "@jupyter-widgets/base",
            "_model_module_version": "1.2.0",
            "_model_name": "LayoutModel",
            "_view_count": null,
            "_view_module": "@jupyter-widgets/base",
            "_view_module_version": "1.2.0",
            "_view_name": "LayoutView",
            "align_content": null,
            "align_items": null,
            "align_self": null,
            "border": null,
            "bottom": null,
            "display": null,
            "flex": null,
            "flex_flow": null,
            "grid_area": null,
            "grid_auto_columns": null,
            "grid_auto_flow": null,
            "grid_auto_rows": null,
            "grid_column": null,
            "grid_gap": null,
            "grid_row": null,
            "grid_template_areas": null,
            "grid_template_columns": null,
            "grid_template_rows": null,
            "height": null,
            "justify_content": null,
            "justify_items": null,
            "left": null,
            "margin": null,
            "max_height": null,
            "max_width": null,
            "min_height": null,
            "min_width": null,
            "object_fit": null,
            "object_position": null,
            "order": null,
            "overflow": null,
            "overflow_x": null,
            "overflow_y": null,
            "padding": null,
            "right": null,
            "top": null,
            "visibility": null,
            "width": null
          }
        },
        "9ba1a08daa3148b795b0296ffa6a4333": {
          "model_module": "@jupyter-widgets/controls",
          "model_name": "DescriptionStyleModel",
          "model_module_version": "1.5.0",
          "state": {
            "_model_module": "@jupyter-widgets/controls",
            "_model_module_version": "1.5.0",
            "_model_name": "DescriptionStyleModel",
            "_view_count": null,
            "_view_module": "@jupyter-widgets/base",
            "_view_module_version": "1.2.0",
            "_view_name": "StyleView",
            "description_width": ""
          }
        },
        "4481fef1902f49768ea146e7fce40bc4": {
          "model_module": "@jupyter-widgets/controls",
          "model_name": "HBoxModel",
          "model_module_version": "1.5.0",
          "state": {
            "_dom_classes": [],
            "_model_module": "@jupyter-widgets/controls",
            "_model_module_version": "1.5.0",
            "_model_name": "HBoxModel",
            "_view_count": null,
            "_view_module": "@jupyter-widgets/controls",
            "_view_module_version": "1.5.0",
            "_view_name": "HBoxView",
            "box_style": "",
            "children": [
              "IPY_MODEL_1a3b93cda0ed4995a15425a32aca5e43",
              "IPY_MODEL_d78f5d9edb874b8682a8d87f954d07f1",
              "IPY_MODEL_d2ac27a0387a440ba5b8c86a25cd671e"
            ],
            "layout": "IPY_MODEL_2e2a640290e44c2e9ce28d1cbf4793c1"
          }
        },
        "1a3b93cda0ed4995a15425a32aca5e43": {
          "model_module": "@jupyter-widgets/controls",
          "model_name": "HTMLModel",
          "model_module_version": "1.5.0",
          "state": {
            "_dom_classes": [],
            "_model_module": "@jupyter-widgets/controls",
            "_model_module_version": "1.5.0",
            "_model_name": "HTMLModel",
            "_view_count": null,
            "_view_module": "@jupyter-widgets/controls",
            "_view_module_version": "1.5.0",
            "_view_name": "HTMLView",
            "description": "",
            "description_tooltip": null,
            "layout": "IPY_MODEL_0950749d55ab431383c08574ae865321",
            "placeholder": "​",
            "style": "IPY_MODEL_1c4da67b43c9497aad218fe0d4d2e7fe",
            "value": "100%"
          }
        },
        "d78f5d9edb874b8682a8d87f954d07f1": {
          "model_module": "@jupyter-widgets/controls",
          "model_name": "FloatProgressModel",
          "model_module_version": "1.5.0",
          "state": {
            "_dom_classes": [],
            "_model_module": "@jupyter-widgets/controls",
            "_model_module_version": "1.5.0",
            "_model_name": "FloatProgressModel",
            "_view_count": null,
            "_view_module": "@jupyter-widgets/controls",
            "_view_module_version": "1.5.0",
            "_view_name": "ProgressView",
            "bar_style": "success",
            "description": "",
            "description_tooltip": null,
            "layout": "IPY_MODEL_ab56aba3513d4eba99acbdf267d37aee",
            "max": 1000,
            "min": 0,
            "orientation": "horizontal",
            "style": "IPY_MODEL_eeb292b3c95f4758822f06b35c360d7e",
            "value": 1000
          }
        },
        "d2ac27a0387a440ba5b8c86a25cd671e": {
          "model_module": "@jupyter-widgets/controls",
          "model_name": "HTMLModel",
          "model_module_version": "1.5.0",
          "state": {
            "_dom_classes": [],
            "_model_module": "@jupyter-widgets/controls",
            "_model_module_version": "1.5.0",
            "_model_name": "HTMLModel",
            "_view_count": null,
            "_view_module": "@jupyter-widgets/controls",
            "_view_module_version": "1.5.0",
            "_view_name": "HTMLView",
            "description": "",
            "description_tooltip": null,
            "layout": "IPY_MODEL_b39cb243ce4f4f53bcdd9c4869e57359",
            "placeholder": "​",
            "style": "IPY_MODEL_b6dca9b9eb7a49fc80fdc0bd447449ac",
            "value": " 1000/1000 [00:10&lt;00:00, 89.36it/s]"
          }
        },
        "2e2a640290e44c2e9ce28d1cbf4793c1": {
          "model_module": "@jupyter-widgets/base",
          "model_name": "LayoutModel",
          "model_module_version": "1.2.0",
          "state": {
            "_model_module": "@jupyter-widgets/base",
            "_model_module_version": "1.2.0",
            "_model_name": "LayoutModel",
            "_view_count": null,
            "_view_module": "@jupyter-widgets/base",
            "_view_module_version": "1.2.0",
            "_view_name": "LayoutView",
            "align_content": null,
            "align_items": null,
            "align_self": null,
            "border": null,
            "bottom": null,
            "display": null,
            "flex": null,
            "flex_flow": null,
            "grid_area": null,
            "grid_auto_columns": null,
            "grid_auto_flow": null,
            "grid_auto_rows": null,
            "grid_column": null,
            "grid_gap": null,
            "grid_row": null,
            "grid_template_areas": null,
            "grid_template_columns": null,
            "grid_template_rows": null,
            "height": null,
            "justify_content": null,
            "justify_items": null,
            "left": null,
            "margin": null,
            "max_height": null,
            "max_width": null,
            "min_height": null,
            "min_width": null,
            "object_fit": null,
            "object_position": null,
            "order": null,
            "overflow": null,
            "overflow_x": null,
            "overflow_y": null,
            "padding": null,
            "right": null,
            "top": null,
            "visibility": null,
            "width": null
          }
        },
        "0950749d55ab431383c08574ae865321": {
          "model_module": "@jupyter-widgets/base",
          "model_name": "LayoutModel",
          "model_module_version": "1.2.0",
          "state": {
            "_model_module": "@jupyter-widgets/base",
            "_model_module_version": "1.2.0",
            "_model_name": "LayoutModel",
            "_view_count": null,
            "_view_module": "@jupyter-widgets/base",
            "_view_module_version": "1.2.0",
            "_view_name": "LayoutView",
            "align_content": null,
            "align_items": null,
            "align_self": null,
            "border": null,
            "bottom": null,
            "display": null,
            "flex": null,
            "flex_flow": null,
            "grid_area": null,
            "grid_auto_columns": null,
            "grid_auto_flow": null,
            "grid_auto_rows": null,
            "grid_column": null,
            "grid_gap": null,
            "grid_row": null,
            "grid_template_areas": null,
            "grid_template_columns": null,
            "grid_template_rows": null,
            "height": null,
            "justify_content": null,
            "justify_items": null,
            "left": null,
            "margin": null,
            "max_height": null,
            "max_width": null,
            "min_height": null,
            "min_width": null,
            "object_fit": null,
            "object_position": null,
            "order": null,
            "overflow": null,
            "overflow_x": null,
            "overflow_y": null,
            "padding": null,
            "right": null,
            "top": null,
            "visibility": null,
            "width": null
          }
        },
        "1c4da67b43c9497aad218fe0d4d2e7fe": {
          "model_module": "@jupyter-widgets/controls",
          "model_name": "DescriptionStyleModel",
          "model_module_version": "1.5.0",
          "state": {
            "_model_module": "@jupyter-widgets/controls",
            "_model_module_version": "1.5.0",
            "_model_name": "DescriptionStyleModel",
            "_view_count": null,
            "_view_module": "@jupyter-widgets/base",
            "_view_module_version": "1.2.0",
            "_view_name": "StyleView",
            "description_width": ""
          }
        },
        "ab56aba3513d4eba99acbdf267d37aee": {
          "model_module": "@jupyter-widgets/base",
          "model_name": "LayoutModel",
          "model_module_version": "1.2.0",
          "state": {
            "_model_module": "@jupyter-widgets/base",
            "_model_module_version": "1.2.0",
            "_model_name": "LayoutModel",
            "_view_count": null,
            "_view_module": "@jupyter-widgets/base",
            "_view_module_version": "1.2.0",
            "_view_name": "LayoutView",
            "align_content": null,
            "align_items": null,
            "align_self": null,
            "border": null,
            "bottom": null,
            "display": null,
            "flex": null,
            "flex_flow": null,
            "grid_area": null,
            "grid_auto_columns": null,
            "grid_auto_flow": null,
            "grid_auto_rows": null,
            "grid_column": null,
            "grid_gap": null,
            "grid_row": null,
            "grid_template_areas": null,
            "grid_template_columns": null,
            "grid_template_rows": null,
            "height": null,
            "justify_content": null,
            "justify_items": null,
            "left": null,
            "margin": null,
            "max_height": null,
            "max_width": null,
            "min_height": null,
            "min_width": null,
            "object_fit": null,
            "object_position": null,
            "order": null,
            "overflow": null,
            "overflow_x": null,
            "overflow_y": null,
            "padding": null,
            "right": null,
            "top": null,
            "visibility": null,
            "width": null
          }
        },
        "eeb292b3c95f4758822f06b35c360d7e": {
          "model_module": "@jupyter-widgets/controls",
          "model_name": "ProgressStyleModel",
          "model_module_version": "1.5.0",
          "state": {
            "_model_module": "@jupyter-widgets/controls",
            "_model_module_version": "1.5.0",
            "_model_name": "ProgressStyleModel",
            "_view_count": null,
            "_view_module": "@jupyter-widgets/base",
            "_view_module_version": "1.2.0",
            "_view_name": "StyleView",
            "bar_color": null,
            "description_width": ""
          }
        },
        "b39cb243ce4f4f53bcdd9c4869e57359": {
          "model_module": "@jupyter-widgets/base",
          "model_name": "LayoutModel",
          "model_module_version": "1.2.0",
          "state": {
            "_model_module": "@jupyter-widgets/base",
            "_model_module_version": "1.2.0",
            "_model_name": "LayoutModel",
            "_view_count": null,
            "_view_module": "@jupyter-widgets/base",
            "_view_module_version": "1.2.0",
            "_view_name": "LayoutView",
            "align_content": null,
            "align_items": null,
            "align_self": null,
            "border": null,
            "bottom": null,
            "display": null,
            "flex": null,
            "flex_flow": null,
            "grid_area": null,
            "grid_auto_columns": null,
            "grid_auto_flow": null,
            "grid_auto_rows": null,
            "grid_column": null,
            "grid_gap": null,
            "grid_row": null,
            "grid_template_areas": null,
            "grid_template_columns": null,
            "grid_template_rows": null,
            "height": null,
            "justify_content": null,
            "justify_items": null,
            "left": null,
            "margin": null,
            "max_height": null,
            "max_width": null,
            "min_height": null,
            "min_width": null,
            "object_fit": null,
            "object_position": null,
            "order": null,
            "overflow": null,
            "overflow_x": null,
            "overflow_y": null,
            "padding": null,
            "right": null,
            "top": null,
            "visibility": null,
            "width": null
          }
        },
        "b6dca9b9eb7a49fc80fdc0bd447449ac": {
          "model_module": "@jupyter-widgets/controls",
          "model_name": "DescriptionStyleModel",
          "model_module_version": "1.5.0",
          "state": {
            "_model_module": "@jupyter-widgets/controls",
            "_model_module_version": "1.5.0",
            "_model_name": "DescriptionStyleModel",
            "_view_count": null,
            "_view_module": "@jupyter-widgets/base",
            "_view_module_version": "1.2.0",
            "_view_name": "StyleView",
            "description_width": ""
          }
        }
      }
    }
  },
  "cells": [
    {
      "cell_type": "code",
      "execution_count": null,
      "metadata": {
        "id": "z65NejgjIS-J"
      },
      "outputs": [],
      "source": [
        "!pip -q install lime shap"
      ]
    },
    {
      "cell_type": "markdown",
      "source": [
        "# 0) Setup & Imports"
      ],
      "metadata": {
        "id": "3-o2dSjuI84G"
      }
    },
    {
      "cell_type": "code",
      "source": [
        "import numpy as np\n",
        "import pandas as pd\n",
        "import matplotlib.pyplot as plt\n",
        "\n",
        "import tensorflow as tf\n",
        "from tensorflow.keras import layers, models\n",
        "from tensorflow.keras.utils import to_categorical\n",
        "\n",
        "from lime import lime_image\n",
        "from skimage.segmentation import slic\n",
        "\n",
        "import shap\n",
        "import warnings\n",
        "warnings.filterwarnings(\"ignore\")\n",
        "\n",
        "RANDOM_STATE = 42\n",
        "np.random.seed(RANDOM_STATE)"
      ],
      "metadata": {
        "id": "XXz50lhQIuPW"
      },
      "execution_count": null,
      "outputs": []
    },
    {
      "cell_type": "markdown",
      "source": [
        "# 1) Load & Prepare MNIST"
      ],
      "metadata": {
        "id": "3_-d0w3yJP3W"
      }
    },
    {
      "cell_type": "code",
      "source": [
        "# MNIST: 28x28 grayscale digits, labels 0..9\n",
        "(x_train, y_train), (x_test, y_test) = tf.keras.datasets.mnist.load_data()\n",
        "\n",
        "\n",
        "# Scale to [0,1] floats for stable training\n",
        "x_train = x_train.astype(\"float32\") / 255.0\n",
        "x_test = x_test.astype(\"float32\") / 255.0\n",
        "\n",
        "\n",
        "# Add channel dim for CNN: (N, 28, 28, 1)\n",
        "x_train = np.expand_dims(x_train, -1)\n",
        "x_test = np.expand_dims(x_test, -1)\n",
        "\n",
        "\n",
        "# Keep original labels for readability, but also build one-hot if needed\n",
        "num_classes = 10"
      ],
      "metadata": {
        "colab": {
          "base_uri": "https://localhost:8080/"
        },
        "id": "CWhn-iCvJNQm",
        "outputId": "7cb50a82-9100-4fcb-c4a6-d0ba6df42421"
      },
      "execution_count": null,
      "outputs": [
        {
          "output_type": "stream",
          "name": "stdout",
          "text": [
            "Downloading data from https://storage.googleapis.com/tensorflow/tf-keras-datasets/mnist.npz\n",
            "\u001b[1m11490434/11490434\u001b[0m \u001b[32m━━━━━━━━━━━━━━━━━━━━\u001b[0m\u001b[37m\u001b[0m \u001b[1m0s\u001b[0m 0us/step\n"
          ]
        }
      ]
    },
    {
      "cell_type": "markdown",
      "source": [
        "#2) Build & Train a CNN"
      ],
      "metadata": {
        "id": "XR-tHqF2KMZo"
      }
    },
    {
      "cell_type": "code",
      "metadata": {
        "colab": {
          "base_uri": "https://localhost:8080/"
        },
        "id": "170ce6ba",
        "outputId": "ede46015-7061-4a3f-deff-723748a28f44"
      },
      "source": [
        "# Small CNN: Conv → Conv → MaxPool → Dropout → Dense\n",
        "model = models.Sequential([\n",
        "layers.Conv2D(32, (3,3), activation='relu', input_shape=(28,28,1)),\n",
        "layers.Conv2D(64, (3,3), activation='relu'),\n",
        "layers.MaxPooling2D((2,2)),\n",
        "layers.Dropout(0.25),\n",
        "layers.Flatten(),\n",
        "layers.Dense(128, activation='relu'),\n",
        "layers.Dropout(0.5),\n",
        "layers.Dense(num_classes, activation='softmax')\n",
        "])\n",
        "\n",
        "# Compile with standard categorical cross-entropy and Adam\n",
        "model.compile(optimizer='adam',\n",
        "loss='sparse_categorical_crossentropy',\n",
        "metrics=['accuracy'])\n",
        "\n",
        "# Train briefly to keep runtime reasonable in Colab (2–3 epochs are enough for ~99% test acc)\n",
        "history = model.fit(\n",
        "x_train, y_train,\n",
        "validation_split=0.1,\n",
        "epochs=3, # bump to 5–10 for higher accuracy if desired\n",
        "batch_size=128,\n",
        "verbose=1\n",
        ")\n",
        "\n",
        "# Evaluate on test set and print accuracy\n",
        "test_loss, test_acc = model.evaluate(x_test, y_test, verbose=0)\n",
        "print(f\"Test accuracy: {test_acc:.4f}\")"
      ],
      "execution_count": null,
      "outputs": [
        {
          "output_type": "stream",
          "name": "stdout",
          "text": [
            "Epoch 1/3\n",
            "\u001b[1m422/422\u001b[0m \u001b[32m━━━━━━━━━━━━━━━━━━━━\u001b[0m\u001b[37m\u001b[0m \u001b[1m132s\u001b[0m 305ms/step - accuracy: 0.8370 - loss: 0.5089 - val_accuracy: 0.9848 - val_loss: 0.0547\n",
            "Epoch 2/3\n",
            "\u001b[1m422/422\u001b[0m \u001b[32m━━━━━━━━━━━━━━━━━━━━\u001b[0m\u001b[37m\u001b[0m \u001b[1m131s\u001b[0m 280ms/step - accuracy: 0.9714 - loss: 0.0946 - val_accuracy: 0.9880 - val_loss: 0.0436\n",
            "Epoch 3/3\n",
            "\u001b[1m422/422\u001b[0m \u001b[32m━━━━━━━━━━━━━━━━━━━━\u001b[0m\u001b[37m\u001b[0m \u001b[1m137s\u001b[0m 267ms/step - accuracy: 0.9792 - loss: 0.0707 - val_accuracy: 0.9892 - val_loss: 0.0381\n",
            "Test accuracy: 0.9904\n"
          ]
        }
      ]
    },
    {
      "cell_type": "markdown",
      "source": [
        "# 3) Pick 5 test images for explanations"
      ],
      "metadata": {
        "id": "M5mX4kteKhyG"
      }
    },
    {
      "cell_type": "code",
      "metadata": {
        "colab": {
          "base_uri": "https://localhost:8080/"
        },
        "id": "7a0a082e",
        "outputId": "92daa3cf-eba2-40c9-94f0-4fca41ee9f31"
      },
      "source": [
        "# We choose them randomly but reproducibly and ensure they are stored for reuse\n",
        "rng = np.random.default_rng(RANDOM_STATE)\n",
        "idx5 = rng.choice(np.arange(len(x_test)), size=5, replace=False)\n",
        "X5 = x_test[idx5] # shape (5, 28, 28, 1)\n",
        "y5 = y_test[idx5] # ground-truth labels\n",
        "print(\"Chosen test indices:\", idx5.tolist())\n",
        "\n",
        "\n",
        "# Helper: model predict_proba wrapper expected by LIME (returns NxK probabilities)\n",
        "def predict_proba(images):\n",
        "    # LIME may pass images as float arrays; ensure correct shape and dtype\n",
        "    if images.ndim == 3: # (H, W, C) single image case\n",
        "        images = np.expand_dims(images, 0)\n",
        "    return model.predict(images, verbose=0)"
      ],
      "execution_count": null,
      "outputs": [
        {
          "output_type": "stream",
          "name": "stdout",
          "text": [
            "Chosen test indices: [7737, 4388, 6544, 892, 4330]\n"
          ]
        }
      ]
    },
    {
      "cell_type": "markdown",
      "source": [
        "# 4) LIME Explanations for the 5 images"
      ],
      "metadata": {
        "id": "poX3DM7EKwvO"
      }
    },
    {
      "cell_type": "code",
      "metadata": {
        "colab": {
          "base_uri": "https://localhost:8080/",
          "height": 1000,
          "referenced_widgets": [
            "bd33b507439a4d8189f562e3a24595ae",
            "05b502e395254bd5a3ff596d5f8f90d4",
            "77665e54d9284c23a21ffcfa38505dfd",
            "ec3f0fbe9731447e9570fc03a922447c",
            "59ce305dc6db4f6cbb338e58a9f52f3f",
            "3fe79d350a7c42e5b1fe378728c7ede7",
            "503ce1e9bd7245358bae11781061aeba",
            "2a824d4abf594dcca849cbe53f8fa9c5",
            "a74c2f550f5d43b9af311d4a2ef13ea1",
            "a669fdf98d9c45689a2272d27ea7c982",
            "b17b098d2844477ebf6e784666d12eb1",
            "f8e7ba97eb394c7baac8632b2987c776",
            "05ba2fc7178b495db9f87d59450cea47",
            "7ed9daff9993438cbb8d2479d906b785",
            "c46619aee6484cc8b5b5b9ef0ce73553",
            "48d7b404660b47c98f542b82307a1c15",
            "f4df553a352c476c8406c56ce0948504",
            "ba3ee97b2a1f43dc9fa45dfc7eae4fa3",
            "c04e256c67274df29ff46a07dadf29cc",
            "63be37e08d8a458eaae85157bee87f01",
            "30637e704d2e4874ba65dad23016b4dd",
            "702961558c5e4c8084b83fc818597f34",
            "5dfd5fcb7a81449d9fea469523a34f94",
            "01694210f6e84eda951a8c9fbd76dc1b",
            "8b3a191558bb446d9767f3cee01874d9",
            "123414fc6001439bacac208a83706668",
            "6f86e2516dec41ab96445799fb50fc7a",
            "26f3d4bf605c40669f4776543ab1ed1a",
            "901fbb7ae0b14dc2b1d674ff9bf21a7c",
            "fe05f37b708448ae98d42f6836a40eec",
            "8ce8dc27bcbb4ca28f679207c3d3e627",
            "207bdad5f88b4d1baf843e430ff8322b",
            "93decf470012434088a85b3573e702c2",
            "a11ac6278616449ca4e9198d9ff02622",
            "3a0b674c287944818d075b5b49815980",
            "8d39c472c54b47ce8293a812ca2024c8",
            "2d848a2f4fb54fa096272cb962048deb",
            "a45050b871c54c51b22358b2e802092a",
            "c80159aa81e54f329bdd55463659d4e6",
            "331bba5987cc4c598bdc2ba2185abc7e",
            "25da547228524b24b1ed74b9295500b4",
            "477a67379e49413baf36140a1bdf880d",
            "467aa96d7f384972b46d5295545a9d85",
            "9ba1a08daa3148b795b0296ffa6a4333",
            "4481fef1902f49768ea146e7fce40bc4",
            "1a3b93cda0ed4995a15425a32aca5e43",
            "d78f5d9edb874b8682a8d87f954d07f1",
            "d2ac27a0387a440ba5b8c86a25cd671e",
            "2e2a640290e44c2e9ce28d1cbf4793c1",
            "0950749d55ab431383c08574ae865321",
            "1c4da67b43c9497aad218fe0d4d2e7fe",
            "ab56aba3513d4eba99acbdf267d37aee",
            "eeb292b3c95f4758822f06b35c360d7e",
            "b39cb243ce4f4f53bcdd9c4869e57359",
            "b6dca9b9eb7a49fc80fdc0bd447449ac"
          ]
        },
        "id": "c924c656",
        "outputId": "332bc8b6-3469-4b1b-85e9-02d2d9aa4127"
      },
      "source": [
        "# Define a segmentation function for LIME using SLIC superpixels\n",
        "segmentation_fn = lambda img: slic(\n",
        "    img, n_segments=50, compactness=10, sigma=1, start_label=0\n",
        ")\n",
        "\n",
        "\n",
        "# Create a LIME image explainer\n",
        "lime_explainer = lime_image.LimeImageExplainer()\n",
        "\n",
        "\n",
        "# Function to visualize LIME masks for a given image and class\n",
        "from skimage.color import gray2rgb\n",
        "from skimage.segmentation import mark_boundaries\n",
        "\n",
        "\n",
        "def show_lime_explanation(image, explanation, class_id, title_prefix=\"\"):\n",
        "    # Get mask for positive regions (features pushing towards the class)\n",
        "    temp, mask = explanation.get_image_and_mask(\n",
        "        label=class_id, positive_only=True, hide_rest=False,\n",
        "        num_features=10, min_weight=0.0\n",
        "    )\n",
        "    plt.figure(figsize=(4,4))\n",
        "    plt.imshow(mark_boundaries(temp, mask))\n",
        "    plt.axis('off')\n",
        "    plt.title(f\"{title_prefix} LIME — positive regions for class {class_id}\")\n",
        "    plt.show()\n",
        "\n",
        "\n",
        "# Run LIME for each of the 5 images\n",
        "lime_explanations = []\n",
        "for i, idx in enumerate(idx5):\n",
        "    img = X5[i]\n",
        "    # LIME expects 3-ch images; convert grayscale to 3-ch for segmentation/visualization\n",
        "    img3 = gray2rgb(img.squeeze())\n",
        "    explanation = lime_explainer.explain_instance(\n",
        "        image=img3,\n",
        "        classifier_fn=lambda im: predict_proba(np.expand_dims(im[...,0], -1)),\n",
        "        top_labels=1,\n",
        "        hide_color=0,\n",
        "        num_samples=1000,\n",
        "        segmentation_fn=segmentation_fn\n",
        "    )\n",
        "    lime_explanations.append(explanation)\n",
        "    pred_class = np.argmax(model.predict(img[None,...], verbose=0)[0])\n",
        "    show_lime_explanation(img3, explanation, pred_class, title_prefix=f\"idx {int(idx)}\")"
      ],
      "execution_count": null,
      "outputs": [
        {
          "output_type": "display_data",
          "data": {
            "text/plain": [
              "  0%|          | 0/1000 [00:00<?, ?it/s]"
            ],
            "application/vnd.jupyter.widget-view+json": {
              "version_major": 2,
              "version_minor": 0,
              "model_id": "bd33b507439a4d8189f562e3a24595ae"
            }
          },
          "metadata": {}
        },
        {
          "output_type": "display_data",
          "data": {
            "text/plain": [
              "<Figure size 400x400 with 1 Axes>"
            ],
            "image/png": "[encoded data removed]"
          },
          "metadata": {}
        },
        {
          "output_type": "display_data",
          "data": {
            "text/plain": [
              "  0%|          | 0/1000 [00:00<?, ?it/s]"
            ],
            "application/vnd.jupyter.widget-view+json": {
              "version_major": 2,
              "version_minor": 0,
              "model_id": "f8e7ba97eb394c7baac8632b2987c776"
            }
          },
          "metadata": {}
        },
        {
          "output_type": "display_data",
          "data": {
            "text/plain": [
              "<Figure size 400x400 with 1 Axes>"
            ],
            "image/png": "[encoded data removed]"
          },
          "metadata": {}
        },
        {
          "output_type": "display_data",
          "data": {
            "text/plain": [
              "  0%|          | 0/1000 [00:00<?, ?it/s]"
            ],
            "application/vnd.jupyter.widget-view+json": {
              "version_major": 2,
              "version_minor": 0,
              "model_id": "5dfd5fcb7a81449d9fea469523a34f94"
            }
          },
          "metadata": {}
        },
        {
          "output_type": "display_data",
          "data": {
            "text/plain": [
              "<Figure size 400x400 with 1 Axes>"
            ],
            "image/png": "[encoded data removed]"
          },
          "metadata": {}
        },
        {
          "output_type": "display_data",
          "data": {
            "text/plain": [
              "  0%|          | 0/1000 [00:00<?, ?it/s]"
            ],
            "application/vnd.jupyter.widget-view+json": {
              "version_major": 2,
              "version_minor": 0,
              "model_id": "a11ac6278616449ca4e9198d9ff02622"
            }
          },
          "metadata": {}
        },
        {
          "output_type": "display_data",
          "data": {
            "text/plain": [
              "<Figure size 400x400 with 1 Axes>"
            ],
            "image/png": "[encoded data removed]"
          },
          "metadata": {}
        },
        {
          "output_type": "display_data",
          "data": {
            "text/plain": [
              "  0%|          | 0/1000 [00:00<?, ?it/s]"
            ],
            "application/vnd.jupyter.widget-view+json": {
              "version_major": 2,
              "version_minor": 0,
              "model_id": "4481fef1902f49768ea146e7fce40bc4"
            }
          },
          "metadata": {}
        },
        {
          "output_type": "display_data",
          "data": {
            "text/plain": [
              "<Figure size 400x400 with 1 Axes>"
            ],
            "image/png": "[encoded data removed]"
          },
          "metadata": {}
        }
      ]
    },
    {
      "cell_type": "markdown",
      "source": [
        "# 5) SHAP Explanations (DeepExplainer) for the same 5 images"
      ],
      "metadata": {
        "id": "vaRGiswnLGhF"
      }
    },
    {
      "cell_type": "code",
      "metadata": {
        "colab": {
          "base_uri": "https://localhost:8080/",
          "height": 1000
        },
        "id": "ff369b54",
        "outputId": "f0774c1e-e763-49a3-9048-2807e7fda400"
      },
      "source": [
        "# Select a small background set (e.g., 100 images) to keep it fast\n",
        "background = x_train[rng.choice(np.arange(len(x_train)), size=100, replace=False)]\n",
        "\n",
        "\n",
        "# Create the SHAP DeepExplainer on our trained model\n",
        "# For classification, we'll take SHAP values for the predicted class per image\n",
        "explainer = shap.DeepExplainer(model, background)\n",
        "\n",
        "\n",
        "# Compute SHAP values for our 5 images; returns a list (one array per output class)\n",
        "# We request SHAP values for all classes then index per-sample at the predicted class\n",
        "shap_values_all = explainer.shap_values(X5) # list of length num_classes, each shape (5, 28, 28, 1)\n",
        "\n",
        "\n",
        "# Rearrange SHAP values to have shape (height, width, channels, num_classes, num_samples)\n",
        "# Based on the observed shape (28, 28, 1, 10, 5)\n",
        "rearranged_shap_values = np.stack(shap_values_all, axis=4) # Stack along a new axis at the end\n",
        "\n",
        "\n",
        "print(f\"Shape of rearranged_shap_values: {rearranged_shap_values.shape}\")\n",
        "\n",
        "\n",
        "# Visualization helper for SHAP heatmaps\n",
        "def show_shap_for_pred(image_batch, shap_values_arr, title_prefix=\"\"):\n",
        "    # Determine predicted classes for this batch\n",
        "    preds = np.argmax(model.predict(image_batch, verbose=0), axis=1)\n",
        "    print(f\"Predicted classes (preds): {preds}\")\n",
        "    for i, pred_c in enumerate(preds):\n",
        "        print(f\"Inside loop - i: {i}, pred_c: {pred_c}\")\n",
        "        # Access SHAP values for the i-th image and the predicted class based on observed shape (28, 28, 1, 10, 5)\n",
        "        sv = shap_values_arr[:, :, :, pred_c, i].squeeze()\n",
        "        plt.figure(figsize=(4,4))\n",
        "        # SHAP has a nice utility for image plots, but we'll use a simple heatmap overlay\n",
        "        plt.imshow(image_batch[i].squeeze(), cmap='gray')\n",
        "        plt.imshow(sv, cmap='jet', alpha=0.6) # overlay contributions\n",
        "        plt.axis('off')\n",
        "        plt.title(f\"{title_prefix} SHAP — predicted class {pred_c}\")\n",
        "        plt.show()\n",
        "\n",
        "\n",
        "show_shap_for_pred(X5, rearranged_shap_values, title_prefix=\"idx batch\")"
      ],
      "execution_count": null,
      "outputs": [
        {
          "output_type": "stream",
          "name": "stdout",
          "text": [
            "Shape of rearranged_shap_values: (28, 28, 1, 10, 5)\n",
            "Predicted classes (preds): [0 6 5 2 5]\n",
            "Inside loop - i: 0, pred_c: 0\n"
          ]
        },
        {
          "output_type": "display_data",
          "data": {
            "text/plain": [
              "<Figure size 400x400 with 1 Axes>"
            ],
            "image/png": "[encoded data removed]"
          },
          "metadata": {}
        },
        {
          "output_type": "stream",
          "name": "stdout",
          "text": [
            "Inside loop - i: 1, pred_c: 6\n"
          ]
        },
        {
          "output_type": "display_data",
          "data": {
            "text/plain": [
              "<Figure size 400x400 with 1 Axes>"
            ],
            "image/png": "[encoded data removed]"
          },
          "metadata": {}
        },
        {
          "output_type": "stream",
          "name": "stdout",
          "text": [
            "Inside loop - i: 2, pred_c: 5\n"
          ]
        },
        {
          "output_type": "display_data",
          "data": {
            "text/plain": [
              "<Figure size 400x400 with 1 Axes>"
            ],
            "image/png": "[encoded data removed]"
          },
          "metadata": {}
        },
        {
          "output_type": "stream",
          "name": "stdout",
          "text": [
            "Inside loop - i: 3, pred_c: 2\n"
          ]
        },
        {
          "output_type": "display_data",
          "data": {
            "text/plain": [
              "<Figure size 400x400 with 1 Axes>"
            ],
            "image/png": "[encoded data removed]"
          },
          "metadata": {}
        },
        {
          "output_type": "stream",
          "name": "stdout",
          "text": [
            "Inside loop - i: 4, pred_c: 5\n"
          ]
        },
        {
          "output_type": "display_data",
          "data": {
            "text/plain": [
              "<Figure size 400x400 with 1 Axes>"
            ],
            "image/png": "[encoded data removed]"
          },
          "metadata": {}
        }
      ]
    },
    {
      "cell_type": "markdown",
      "source": [
        "# 6) Quick side-by-side textual comparison"
      ],
      "metadata": {
        "id": "H1f7K5rsLZB1"
      }
    },
    {
      "cell_type": "code",
      "metadata": {
        "colab": {
          "base_uri": "https://localhost:8080/"
        },
        "id": "e965d688",
        "outputId": "26563594-8845-493a-9d1b-a740ff45d49b"
      },
      "source": [
        "for i, idx in enumerate(idx5):\n",
        "    pred = np.argmax(model.predict(X5[i:i+1], verbose=0)[0])\n",
        "    print(f\"\\nImage test idx {int(idx)} — predicted class {pred}\")\n",
        "    print(\" LIME: shows contiguous superpixels (strokes) that, when turned off/on, change the prediction.\")\n",
        "    print(\" SHAP: shows fine-grained pixel contributions—warm colors push toward the predicted class;\"\n",
        "          \" cool colors push away. Often aligns with the digit's main strokes but may highlight\"\n",
        "          \" thinner edges or counter-evidence too.\")"
      ],
      "execution_count": null,
      "outputs": [
        {
          "output_type": "stream",
          "name": "stdout",
          "text": [
            "\n",
            "Image test idx 7737 — predicted class 0\n",
            " LIME: shows contiguous superpixels (strokes) that, when turned off/on, change the prediction.\n",
            " SHAP: shows fine-grained pixel contributions—warm colors push toward the predicted class; cool colors push away. Often aligns with the digit's main strokes but may highlight thinner edges or counter-evidence too.\n",
            "\n",
            "Image test idx 4388 — predicted class 6\n",
            " LIME: shows contiguous superpixels (strokes) that, when turned off/on, change the prediction.\n",
            " SHAP: shows fine-grained pixel contributions—warm colors push toward the predicted class; cool colors push away. Often aligns with the digit's main strokes but may highlight thinner edges or counter-evidence too.\n",
            "\n",
            "Image test idx 6544 — predicted class 5\n",
            " LIME: shows contiguous superpixels (strokes) that, when turned off/on, change the prediction.\n",
            " SHAP: shows fine-grained pixel contributions—warm colors push toward the predicted class; cool colors push away. Often aligns with the digit's main strokes but may highlight thinner edges or counter-evidence too.\n",
            "\n",
            "Image test idx 892 — predicted class 2\n",
            " LIME: shows contiguous superpixels (strokes) that, when turned off/on, change the prediction.\n",
            " SHAP: shows fine-grained pixel contributions—warm colors push toward the predicted class; cool colors push away. Often aligns with the digit's main strokes but may highlight thinner edges or counter-evidence too.\n",
            "\n",
            "Image test idx 4330 — predicted class 5\n",
            " LIME: shows contiguous superpixels (strokes) that, when turned off/on, change the prediction.\n",
            " SHAP: shows fine-grained pixel contributions—warm colors push toward the predicted class; cool colors push away. Often aligns with the digit's main strokes but may highlight thinner edges or counter-evidence too.\n"
          ]
        }
      ]
    },
    {
      "cell_type": "markdown",
      "metadata": {
        "id": "ac7e7a4a"
      },
      "source": [
        "## Comparison of LIME and SHAP Explanations\n",
        "\n",
        "Based on the visualizations and the brief textual comparison, here are the key differences and similarities between the LIME and SHAP explanations for the MNIST digit classifications:\n",
        "\n",
        "**Similarities:**\n",
        "\n",
        "*   **Highlight Important Regions:** Both LIME and SHAP successfully highlight the regions (pixels or superpixels) of the input image that are most important for the model's prediction of the predicted class. For the digit images, both methods tend to focus on the strokes and key features that define the digit.\n",
        "*   **Local Explanations:** Both LIME and SHAP provide local explanations, meaning they explain the prediction for a single instance (image) rather than providing a global explanation of the entire model.\n",
        "\n",
        "**Differences:**\n",
        "\n",
        "*   **Methodology:**\n",
        "    *   **LIME (Local Interpretable Model-agnostic Explanations):** Works by creating a local approximation of the model around the instance being explained. It perturbs the input (e.g., turning superpixels on/off in images), gets predictions for these perturbed instances, and trains a simple, interpretable model (like a linear model) on this locally sampled data. The explanation is based on the features (superpixels) that are important in this local, interpretable model. LIME's output shows contiguous regions (superpixels) that influence the prediction.\n",
        "    *   **SHAP (SHapley Additive exPlanations):** Based on the concept of Shapley values from cooperative game theory. SHAP aims to attribute the prediction to each feature (pixel) by considering all possible combinations of features. For image data and deep learning models, `DeepExplainer` (used here) approximates SHAP values by considering the difference in expected output when conditioning on different subsets of input features. SHAP provides fine-grained pixel-level attributions, showing both positive (contributing to the predicted class) and negative (contributing against the predicted class) influences.\n",
        "*   **Output Representation:**\n",
        "    *   **LIME:** Typically shows explanations as masks or outlines on the image, highlighting superpixels. The color usually indicates the direction of influence (e.g., green for supporting the class, red for opposing).\n",
        "    *   **SHAP:** Provides pixel-level heatmaps showing the magnitude and direction of influence. Warm colors (e.g., red/yellow) often indicate features that strongly support the prediction, while cool colors (e.g., blue/cyan) indicate features that strongly oppose it.\n",
        "*   **Granularity:**\n",
        "    *   **LIME:** Explanations are based on superpixels (groups of pixels), providing a coarser but often more human-interpretable view of important regions.\n",
        "    *   **SHAP:** Provides explanations at the individual pixel level, offering a more detailed view of feature importance.\n",
        "*   **Computational Cost:**\n",
        "    *   **LIME:** Can be computationally expensive for images as it requires generating and predicting on many perturbed versions of the input. The `num_samples` parameter controls this cost.\n",
        "    *   **SHAP (DeepExplainer):** Requires a background dataset and can also be computationally intensive, especially for large models and datasets. However, it can be more efficient than LIME for deep learning models due to optimizations.\n",
        "*   **Interpretation:**\n",
        "    *   **LIME:** Highlights which *regions* (superpixels) are important. It shows the effect of including/excluding these regions.\n",
        "    *   **SHAP:** Shows how much each *pixel* contributes to the prediction compared to the expected value. It provides a sense of the \"push\" and \"pull\" of individual pixels towards or away from the predicted class.\n",
        "\n",
        "In summary, both LIME and SHAP are valuable tools for understanding deep learning model predictions on images. LIME offers a superpixel-based, locally linear approximation view, while SHAP provides a pixel-level attribution based on game theory. The choice between them often depends on the desired granularity of explanation and computational resources."
      ]
    },
    {
      "cell_type": "markdown",
      "source": [
        "Done: CNN trained, LIME and SHAP explanations generated for 5 images,\"\n",
        "      \" and a brief comparison printed. Add more epochs if you want higher accuracy,\"\n",
        "      \" or increase LIME num_samples for denser local fits."
      ],
      "metadata": {
        "id": "gQ6FunNFXktW"
      }
    }
  ]
}